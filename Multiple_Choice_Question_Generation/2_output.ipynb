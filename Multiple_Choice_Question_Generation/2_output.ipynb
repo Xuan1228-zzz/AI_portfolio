{
 "cells": [
  {
   "cell_type": "code",
   "execution_count": null,
   "metadata": {},
   "outputs": [],
   "source": [
    "import pandas as pd\n",
    "import ollama"
   ]
  },
  {
   "cell_type": "code",
   "execution_count": 3,
   "metadata": {},
   "outputs": [
    {
     "name": "stdout",
     "output_type": "stream",
     "text": [
      "\u001b[?2026h\u001b[?25l\u001b[1Gpulling manifest ⠙ \u001b[K\u001b[?25h\u001b[?2026l\u001b[?2026h\u001b[?25l\u001b[1Gpulling manifest ⠙ \u001b[K\u001b[?25h\u001b[?2026l\u001b[?2026h\u001b[?25l\u001b[1Gpulling manifest ⠸ \u001b[K\u001b[?25h\u001b[?2026l\u001b[?2026h\u001b[?25l\u001b[1Gpulling manifest ⠼ \u001b[K\u001b[?25h\u001b[?2026l\u001b[?2026h\u001b[?25l\u001b[1Gpulling manifest ⠼ \u001b[K\u001b[?25h\u001b[?2026l\u001b[?2026h\u001b[?25l\u001b[1Gpulling manifest ⠦ \u001b[K\u001b[?25h\u001b[?2026l\u001b[?2026h\u001b[?25l\u001b[1Gpulling manifest ⠦ \u001b[K\u001b[?25h\u001b[?2026l\u001b[?2026h\u001b[?25l\u001b[1Gpulling manifest \u001b[K\n",
      "pulling 2bada8a74506... 100% ▕████████████████▏ 4.7 GB                         \u001b[K\n",
      "pulling 66b9ea09bd5b... 100% ▕████████████████▏   68 B                         \u001b[K\n",
      "pulling eb4402837c78... 100% ▕████████████████▏ 1.5 KB                         \u001b[K\n",
      "pulling 832dd9e00a68... 100% ▕████████████████▏  11 KB                         \u001b[K\n",
      "pulling 2f15b3218f05... 100% ▕████████████████▏  487 B                         \u001b[K\n",
      "verifying sha256 digest \u001b[K\n",
      "writing manifest \u001b[K\n",
      "success \u001b[K\u001b[?25h\u001b[?2026l\n"
     ]
    }
   ],
   "source": [
    "!ollama pull qwen2.5:7b"
   ]
  },
  {
   "cell_type": "code",
   "execution_count": null,
   "metadata": {},
   "outputs": [
    {
     "name": "stdout",
     "output_type": "stream",
     "text": [
      "已處理 1/100 題\n",
      "已處理 2/100 題\n",
      "已處理 3/100 題\n"
     ]
    }
   ],
   "source": [
    "# 讀取現有CSV檔案\n",
    "df = pd.read_csv('final.csv')\n",
    "\n",
    "# 添加空的推理過程欄位\n",
    "df['推理過程'] = ''\n",
    "\n",
    "# 為每個題目生成推理過程\n",
    "# 為每個題目生成推理過程\n",
    "for index, row in df.iterrows():\n",
    "    # 注意：這裡將 <o> 標籤改為 <output> 標籤\n",
    "    prompt = f\"\"\"\n",
    "    題目：{row['題目']}\n",
    "    選項A：{row['選項A']}\n",
    "    選項B：{row['選項B']}\n",
    "    選項C：{row['選項C']}\n",
    "    選項D：{row['選項D']}\n",
    "    正確答案：{row['正確答案']}\n",
    "    \n",
    "    請使用以下格式分析為什麼{row['正確答案']}是正確答案。你必須嚴格按照以下格式輸出：\n",
    "    \n",
    "    <think>\n",
    "    在這裡寫下你的初步思考過程，可以包括你對問題的理解、可能的答案和相關背景知識。\n",
    "    </think>\n",
    "    <reasoning>\n",
    "    step 1: [第一個分析步驟]\n",
    "    step 2: [第二個分析步驟]\n",
    "    step 3: [第三個分析步驟]\n",
    "    step 4: [第四個分析步驟]\n",
    "    step 5: [第五個分析步驟]\n",
    "    step 6: [視需要添加更多步驟]\n",
    "    step 7: [視需要添加更多步驟]\n",
    "    </reasoning>\n",
    "    <reflection>\n",
    "    在這裡簡要總結你的分析結果及為何這是正確答案。\n",
    "    </reflection>\n",
    "    <adjustment>\n",
    "    如有必要，在這裡說明你對初始答案的調整。如無需調整，請說明。\n",
    "    </adjustment>\n",
    "    <output>\n",
    "    答案：{row['正確答案']}\n",
    "    </output>\n",
    "    \n",
    "    請使用清晰、客觀的語言並使用繁體中文回答。每個部分必須包含，且格式必須完全符合上述要求。\n",
    "    \"\"\"\n",
    "    \n",
    "    # 使用ollama生成推理過程\n",
    "    response = ollama.generate(model='qwen2.5:7b', prompt=prompt)\n",
    "    \n",
    "    # 更新推理過程欄位\n",
    "    df.at[index, '推理過程'] = response['response']\n",
    "\n",
    "    # 保存結果到新的CSV檔案\n",
    "    df.to_csv('final_with_reasoning.csv', index=False)\n",
    "    # 顯示進度\n",
    "    print(f\"已處理 {index+1}/{len(df)} 題\")"
   ]
  },
  {
   "cell_type": "code",
   "execution_count": null,
   "metadata": {},
   "outputs": [],
   "source": []
  }
 ],
 "metadata": {
  "kernelspec": {
   "display_name": "qn",
   "language": "python",
   "name": "qn"
  },
  "language_info": {
   "codemirror_mode": {
    "name": "ipython",
    "version": 3
   },
   "file_extension": ".py",
   "mimetype": "text/x-python",
   "name": "python",
   "nbconvert_exporter": "python",
   "pygments_lexer": "ipython3",
   "version": "3.13.2"
  }
 },
 "nbformat": 4,
 "nbformat_minor": 4
}
